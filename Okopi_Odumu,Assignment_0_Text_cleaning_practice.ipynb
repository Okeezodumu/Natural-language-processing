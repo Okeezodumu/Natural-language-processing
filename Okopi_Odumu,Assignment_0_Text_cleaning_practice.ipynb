{
  "cells": [
    {
      "cell_type": "markdown",
      "metadata": {
        "id": "view-in-github",
        "colab_type": "text"
      },
      "source": [
        "<a href=\"https://colab.research.google.com/github/Okeezodumu/Natural-language-processing/blob/main/Okopi_Odumu%2CAssignment_0_Text_cleaning_practice.ipynb\" target=\"_parent\"><img src=\"https://colab.research.google.com/assets/colab-badge.svg\" alt=\"Open In Colab\"/></a>"
      ]
    },
    {
      "cell_type": "markdown",
      "metadata": {
        "id": "48GN-laRGhYg"
      },
      "source": [
        "Develop your NLP preprocessing skills by applying various techniques to a  small set of medical texts. This assignment will help you practice a few basic cleaning  task in NLP"
      ]
    },
    {
      "cell_type": "code",
      "execution_count": null,
      "metadata": {
        "id": "OePGg1G-GZ0Q"
      },
      "outputs": [],
      "source": [
        "medical_texts = [\n",
        "    \"Diabetes mellitus (DM), commonly known as diabetes, is a group of metabolic disorders characterized by a high blood sugar level over a prolonged period of time.\",\n",
        "    \"Symptoms of high blood sugar include frequent urination, increased thirst, and increased hunger.\",\n",
        "    \"Cancer is a group of diseases involving abnormal cell growth with the potential to invade or spread to other parts of the body.\",\n",
        "    \"These contrast with benign tumors, which do not spread. Treatment options may include surgery, radiation therapy, chemotherapy, or palliation.\",\n",
        "    \"Hypertension, also known as high blood pressure (HBP), is a long-term medical condition in which the blood pressure in the arteries is persistently elevated.\"\n",
        "]\n"
      ]
    },
    {
      "cell_type": "markdown",
      "metadata": {
        "id": "XenK9WjSHCqN"
      },
      "source": [
        "1. Lowercase Conversion:\n",
        "\n",
        "  Task: Convert all the text entries in medical_texts to lowercase.\n",
        "  Objective: Standardize the text to eliminate case sensitivity issues in subsequent analyses.\n",
        "\n",
        "2.   Remove all stopwords from the texts using a comprehensive medical stopword list (students can be directed to use a custom list or a library such as NLTK for general English stopwords).\n",
        "Objective: Eliminate common words that may not contribute useful information to the analysis.\n",
        "\n",
        "3. Punctuation Removal:\n",
        "\n",
        "  Task: Remove all punctuation from the texts in medical_texts.\n",
        "  Objective: Simplify the text for easier tokenization and analysis.\n",
        "  Regular Expression Filtering:\n",
        "\n",
        "4. Use regular expression to   the dataset to include only texts containing any of the following keywords: ['diabetes', 'cancer', 'hypertension'].\n",
        "Objective: Focus the dataset on texts related to specific medical conditions for targeted analysis.\n",
        "\n",
        "4. Lemmatization:\n",
        "Task: Apply lemmatization to the texts to reduce words to their base or dictionary form.\n",
        "Objective: Normalize word forms to ensure that variations of a word are processed as a single item.\n",
        "Stopword Removal:\n",
        "\n",
        "\n",
        "5. Bonus - Comprehensive Preprocessing Function:\n",
        "\n",
        "  Create a function you can call it  clean_medical_text(text) that incorporates all the preprocessing steps: normalization, punctuation removal, keyword filtering, lemmatization, and stopword removal.\n",
        "  Objective: Produce a clean output from any given medical text, demonstrating how to streamline these preprocessing steps into a single, reusable function.\n",
        "## Instructions:\n",
        "Implement each task in Python using libraries such as NLTK for NLP-related tasks and re for regular expressions.\n",
        "Provide detailed explanations for your choices in preprocessing techniques and discuss their impact on the dataset.\n",
        "Include comments in your code to explain the purpose and function of each code block.\n",
        "\n",
        "## Submission:\n",
        "  Submit a well-documented Jupyter Notebook containing all code and comment in google colab.\n",
        "  Ensure your final function is tested with examples from medical_texts to demonstrate its effectiveness."
      ]
    },
    {
      "cell_type": "code",
      "execution_count": null,
      "metadata": {
        "id": "KJS-taLLbMfz"
      },
      "outputs": [],
      "source": [
        "import nltk"
      ]
    },
    {
      "cell_type": "code",
      "source": [
        "nltk.download( 'punkt')"
      ],
      "metadata": {
        "colab": {
          "base_uri": "https://localhost:8080/"
        },
        "id": "CcCYy2dofauo",
        "outputId": "ac5bb57d-cc66-4a0c-85a5-6e3e343f3890"
      },
      "execution_count": null,
      "outputs": [
        {
          "output_type": "stream",
          "name": "stderr",
          "text": [
            "[nltk_data] Downloading package punkt to /root/nltk_data...\n",
            "[nltk_data]   Package punkt is already up-to-date!\n"
          ]
        },
        {
          "output_type": "execute_result",
          "data": {
            "text/plain": [
              "True"
            ]
          },
          "metadata": {},
          "execution_count": 5
        }
      ]
    },
    {
      "cell_type": "code",
      "execution_count": null,
      "metadata": {
        "colab": {
          "base_uri": "https://localhost:8080/"
        },
        "id": "IhlzmDC5XSmp",
        "outputId": "ad329697-7275-45cc-d0e0-b19e7d3faa90"
      },
      "outputs": [
        {
          "output_type": "stream",
          "name": "stdout",
          "text": [
            "['diabetes mellitus (dm), commonly known as diabetes, is a group of metabolic disorders characterized by a high blood sugar level over a prolonged period of time.', 'symptoms of high blood sugar include frequent urination, increased thirst, and increased hunger.', 'cancer is a group of diseases involving abnormal cell growth with the potential to invade or spread to other parts of the body.', 'these contrast with benign tumors, which do not spread. treatment options may include surgery, radiation therapy, chemotherapy, or palliation.', 'hypertension, also known as high blood pressure (hbp), is a long-term medical condition in which the blood pressure in the arteries is persistently elevated.']\n"
          ]
        }
      ],
      "source": [
        "#Question1\n",
        "\n",
        "medical_texts = [\n",
        "    \"Diabetes mellitus (DM), commonly known as diabetes, is a group of metabolic disorders characterized by a high blood sugar level over a prolonged period of time.\",\n",
        "    \"Symptoms of high blood sugar include frequent urination, increased thirst, and increased hunger.\",\n",
        "    \"Cancer is a group of diseases involving abnormal cell growth with the potential to invade or spread to other parts of the body.\",\n",
        "    \"These contrast with benign tumors, which do not spread. Treatment options may include surgery, radiation therapy, chemotherapy, or palliation.\",\n",
        "    \"Hypertension, also known as high blood pressure (HBP), is a long-term medical condition in which the blood pressure in the arteries is persistently elevated.\"\n",
        "]\n",
        "lowercased_medical_text = [text.lower() for text in medical_texts]\n",
        "print(lowercased_medical_text)"
      ]
    },
    {
      "cell_type": "code",
      "source": [
        "#Converting text to lowercase\n",
        "lowercased_medical_text =['diabetes mellitus (dm), commonly known as diabetes, is a group of metabolic disorders characterized by a high blood sugar level over a prolonged period of time.', 'symptoms of high blood sugar include frequent urination, increased thirst, and increased hunger.', 'cancer is a group of diseases involving abnormal cell growth with the potential to invade or spread to other parts of the body.', 'these contrast with benign tumors, which do not spread. treatment options may include surgery, radiation therapy, chemotherapy, or palliation.', 'hypertension, also known as high blood pressure (hbp), is a long-term medical condition in which the blood pressure in the arteries is persistently elevated.']\n",
        "#Applying the standardization\n",
        "lowercased_medical_text = [text.strip().lower() for text in lowercased_medical_text ]\n",
        "print('\\n'.join(lowercased_medical_text))"
      ],
      "metadata": {
        "colab": {
          "base_uri": "https://localhost:8080/"
        },
        "id": "yVwKZRJmhkhR",
        "outputId": "180f3c9e-8a76-46f0-dbd6-8e187ce5dcb1"
      },
      "execution_count": null,
      "outputs": [
        {
          "output_type": "stream",
          "name": "stdout",
          "text": [
            "diabetes mellitus (dm), commonly known as diabetes, is a group of metabolic disorders characterized by a high blood sugar level over a prolonged period of time.\n",
            "symptoms of high blood sugar include frequent urination, increased thirst, and increased hunger.\n",
            "cancer is a group of diseases involving abnormal cell growth with the potential to invade or spread to other parts of the body.\n",
            "these contrast with benign tumors, which do not spread. treatment options may include surgery, radiation therapy, chemotherapy, or palliation.\n",
            "hypertension, also known as high blood pressure (hbp), is a long-term medical condition in which the blood pressure in the arteries is persistently elevated.\n"
          ]
        }
      ]
    },
    {
      "cell_type": "code",
      "source": [
        "import nltk\n",
        "nltk.download('stopwords')\n",
        "nltk.download('punkt_tab')"
      ],
      "metadata": {
        "colab": {
          "base_uri": "https://localhost:8080/"
        },
        "id": "WTJ7I82OmIw3",
        "outputId": "9a167707-d52d-4a7b-9595-bab765e2efdc"
      },
      "execution_count": null,
      "outputs": [
        {
          "output_type": "stream",
          "name": "stderr",
          "text": [
            "[nltk_data] Downloading package stopwords to /root/nltk_data...\n",
            "[nltk_data]   Package stopwords is already up-to-date!\n",
            "[nltk_data] Downloading package punkt_tab to /root/nltk_data...\n",
            "[nltk_data]   Unzipping tokenizers/punkt_tab.zip.\n"
          ]
        },
        {
          "output_type": "execute_result",
          "data": {
            "text/plain": [
              "True"
            ]
          },
          "metadata": {},
          "execution_count": 4
        }
      ]
    },
    {
      "cell_type": "code",
      "source": [
        "import nltk\n",
        "from nltk.corpus import stopwords\n",
        "from nltk.tokenize import word_tokenize"
      ],
      "metadata": {
        "id": "g5_0V6QYl2z4"
      },
      "execution_count": null,
      "outputs": []
    },
    {
      "cell_type": "code",
      "source": [
        "#Applying stopwords\n",
        "lowercased_medical_text =['diabetes mellitus (dm), commonly known as diabetes, is a group of metabolic disorders characterized by a high blood sugar level over a prolonged period of time.', 'symptoms of high blood sugar include frequent urination, increased thirst, and increased hunger.', 'cancer is a group of diseases involving abnormal cell growth with the potential to invade or spread to other parts of the body.', 'these contrast with benign tumors, which do not spread. treatment options may include surgery, radiation therapy, chemotherapy, or palliation.', 'hypertension, also known as high blood pressure (hbp), is a long-term medical condition in which the blood pressure in the arteries is persistently elevated.']\n",
        "#Getting english stopwords\n",
        "stop_words = set(stopwords.words('english'))\n",
        "new_text =[]\n",
        "#creating a loop to remove stopwords in text and appending it to the new object created above;new_text\n",
        "for text in lowercased_medical_text:\n",
        "    word_tokens =  word_tokenize(text)\n",
        "    new_text =[word for word\n",
        "in word_tokens if word.lower()not\n",
        "in stop_words]\n",
        "    new_text.append(''.join(new_text))\n",
        "print(new_text)"
      ],
      "metadata": {
        "colab": {
          "base_uri": "https://localhost:8080/"
        },
        "id": "vrqCfx6ym8CN",
        "outputId": "7e91a521-8dc7-4d6a-8333-8500416feb21"
      },
      "execution_count": null,
      "outputs": [
        {
          "output_type": "stream",
          "name": "stdout",
          "text": [
            "['hypertension', ',', 'also', 'known', 'high', 'blood', 'pressure', '(', 'hbp', ')', ',', 'long-term', 'medical', 'condition', 'blood', 'pressure', 'arteries', 'persistently', 'elevated', '.', 'hypertension,alsoknownhighbloodpressure(hbp),long-termmedicalconditionbloodpressurearteriespersistentlyelevated.']\n"
          ]
        }
      ]
    },
    {
      "cell_type": "code",
      "source": [
        "#Removing punctuation\n",
        "from nltk import word_tokenize, RegexpTokenizer\n",
        "lowercased_medical_text =['diabetes mellitus (dm), commonly known as diabetes, is a group of metabolic disorders characterized by a high blood sugar level over a prolonged period of time.', 'symptoms of high blood sugar include frequent urination, increased thirst, and increased hunger.', 'cancer is a group of diseases involving abnormal cell growth with the potential to invade or spread to other parts of the body.', 'these contrast with benign tumors, which do not spread. treatment options may include surgery, radiation therapy, chemotherapy, or palliation.', 'hypertension, also known as high blood pressure (hbp), is a long-term medical condition in which the blood pressure in the arteries is persistently elevated.']\n",
        "\n",
        "tokenizer = RegexpTokenizer(r'\\w+') #matches any character of letters,integers and underscores\n",
        "\n",
        "#creating a loop to iterate over the dictionary and removes characters that match the tokenizer\n",
        "for i in range(len(lowercased_medical_text)):\n",
        "              tokens = tokenizer.tokenize(lowercased_medical_text[i])\n",
        "              lowercased_medical_text[i] = \"\".join(tokens)\n",
        "\n",
        "print('\\n'.join(lowercased_medical_text))\n"
      ],
      "metadata": {
        "colab": {
          "base_uri": "https://localhost:8080/"
        },
        "id": "18iN5JO8e-qF",
        "outputId": "925f0a76-4779-4759-bc48-9146485d93d9"
      },
      "execution_count": null,
      "outputs": [
        {
          "output_type": "stream",
          "name": "stdout",
          "text": [
            "diabetesmellitusdmcommonlyknownasdiabetesisagroupofmetabolicdisorderscharacterizedbyahighbloodsugarleveloveraprolongedperiodoftime\n",
            "symptomsofhighbloodsugarincludefrequenturinationincreasedthirstandincreasedhunger\n",
            "cancerisagroupofdiseasesinvolvingabnormalcellgrowthwiththepotentialtoinvadeorspreadtootherpartsofthebody\n",
            "thesecontrastwithbenigntumorswhichdonotspreadtreatmentoptionsmayincludesurgeryradiationtherapychemotherapyorpalliation\n",
            "hypertensionalsoknownashighbloodpressurehbpisalongtermmedicalconditioninwhichthebloodpressureinthearteriesispersistentlyelevated\n"
          ]
        }
      ]
    },
    {
      "cell_type": "code",
      "source": [
        "#Applying keywords\n",
        "import nltk\n",
        "nltk.download('punkt_tab')\n",
        "from nltk import word_tokenize, RegexpTokenizer\n",
        "\n",
        "lowercased_medical_text =\"\"\"diabetes mellitus (dm), commonly known as diabetes, is a group of metabolic disorders characterized by a high blood sugar level over a prolonged period of time.', 'symptoms of high blood sugar include frequent urination, increased thirst, and increased hunger.', 'cancer is a group of diseases involving abnormal cell growth with the potential to invade or spread to other parts of the body.', 'these contrast with benign tumors, which do not spread. treatment options may include surgery, radiation therapy, chemotherapy, or palliation.', 'hypertension, also known as high blood pressure (hbp), is a long-term medical condition in which the blood pressure in the arteries is persistently elevated.\"\"\"\n",
        "keywords =['diabetes','cancer','hypertension']\n",
        "\n",
        "#code to tokenize medical_text\n",
        "tokens = word_tokenize(lowercased_medical_text)\n",
        "key_text =[]\n",
        "#creating an empty object\n",
        "sentence = \"\"\n",
        "#looping through the text and the keywords\n",
        "for token in tokens:\n",
        "    sentence += token + \" \"\n",
        "    for keyword in keywords:\n",
        "        if keyword in sentence.lower(): #if the words match the keywords,append sentence object\n",
        "           key_text.append(sentence.strip())\n",
        "           sentence = \"\"\n",
        "           break\n",
        "print('\\n'.join(key_text))\n",
        "\n"
      ],
      "metadata": {
        "colab": {
          "base_uri": "https://localhost:8080/"
        },
        "id": "go8CLlp-7ivl",
        "outputId": "951bdbf9-6ffd-4ffe-d395-db3ce90a6c41"
      },
      "execution_count": null,
      "outputs": [
        {
          "output_type": "stream",
          "name": "stdout",
          "text": [
            "diabetes\n",
            "mellitus ( dm ) , commonly known as diabetes\n",
            ", is a group of metabolic disorders characterized by a high blood sugar level over a prolonged period of time . ' , 'symptoms of high blood sugar include frequent urination , increased thirst , and increased hunger . ' , 'cancer\n",
            "is a group of diseases involving abnormal cell growth with the potential to invade or spread to other parts of the body . ' , 'these contrast with benign tumors , which do not spread . treatment options may include surgery , radiation therapy , chemotherapy , or palliation . ' , 'hypertension\n"
          ]
        },
        {
          "output_type": "stream",
          "name": "stderr",
          "text": [
            "[nltk_data] Downloading package punkt_tab to /root/nltk_data...\n",
            "[nltk_data]   Package punkt_tab is already up-to-date!\n"
          ]
        }
      ]
    },
    {
      "cell_type": "code",
      "source": [
        "#Lemmatizing text\n",
        "from nltk.stem import WordNetLemmatizer\n",
        "from nltk import word_tokenize\n",
        "nltk.download('punkt_tab')\n",
        "nltk.download('wordnet')\n",
        "medical_texts =  \"\"\"Diabetes mellitus (DM), commonly known as diabetes, is a group of metabolic disorders characterized by a high blood sugar level over a prolonged period of time.\",\n",
        "    \"Symptoms of high blood sugar include frequent urination, increased thirst, and increased hunger.\",\n",
        "    \"Cancer is a group of diseases involving abnormal cell growth with the potential to invade or spread to other parts of the body.\",\n",
        "    \"These contrast with benign tumors, which do not spread. Treatment options may include surgery, radiation therapy, chemotherapy, or palliation.\",\n",
        "    \"Hypertension, also known as high blood pressure (HBP), is a long-term medical condition in which the blood pressure in the arteries is persistently elevated.\"\"\"\n",
        "\n",
        "#code to tokenize medical_text\n",
        "tokens = word_tokenize(medical_texts)\n",
        "\n",
        "#Assigning WordNetLemmatizer as an object\n",
        "lemmatizer = WordNetLemmatizer()\n",
        "\n",
        "#code to lemmatize each word\n",
        "lemmatize_text = [lemmatizer.lemmatize(token) for token in tokens]\n",
        "lemmatized = \" \".join(lemmatize_text)\n",
        "\n",
        "print(\"original text:\\n\",medical_texts)\n",
        "print(\"\\nLemmatized text:\\n\",lemmatize_text)"
      ],
      "metadata": {
        "colab": {
          "base_uri": "https://localhost:8080/"
        },
        "id": "sJCkpEPVB5zg",
        "outputId": "c90656c5-dfa8-406d-b2ed-74b800e022af"
      },
      "execution_count": null,
      "outputs": [
        {
          "output_type": "stream",
          "name": "stdout",
          "text": [
            "original text:\n",
            " Diabetes mellitus (DM), commonly known as diabetes, is a group of metabolic disorders characterized by a high blood sugar level over a prolonged period of time.\",\n",
            "    \"Symptoms of high blood sugar include frequent urination, increased thirst, and increased hunger.\",\n",
            "    \"Cancer is a group of diseases involving abnormal cell growth with the potential to invade or spread to other parts of the body.\",\n",
            "    \"These contrast with benign tumors, which do not spread. Treatment options may include surgery, radiation therapy, chemotherapy, or palliation.\",\n",
            "    \"Hypertension, also known as high blood pressure (HBP), is a long-term medical condition in which the blood pressure in the arteries is persistently elevated.\n",
            "\n",
            "Lemmatized text:\n",
            " ['Diabetes', 'mellitus', '(', 'DM', ')', ',', 'commonly', 'known', 'a', 'diabetes', ',', 'is', 'a', 'group', 'of', 'metabolic', 'disorder', 'characterized', 'by', 'a', 'high', 'blood', 'sugar', 'level', 'over', 'a', 'prolonged', 'period', 'of', 'time', '.', '``', ',', '``', 'Symptoms', 'of', 'high', 'blood', 'sugar', 'include', 'frequent', 'urination', ',', 'increased', 'thirst', ',', 'and', 'increased', 'hunger', '.', '``', ',', '``', 'Cancer', 'is', 'a', 'group', 'of', 'disease', 'involving', 'abnormal', 'cell', 'growth', 'with', 'the', 'potential', 'to', 'invade', 'or', 'spread', 'to', 'other', 'part', 'of', 'the', 'body', '.', '``', ',', '``', 'These', 'contrast', 'with', 'benign', 'tumor', ',', 'which', 'do', 'not', 'spread', '.', 'Treatment', 'option', 'may', 'include', 'surgery', ',', 'radiation', 'therapy', ',', 'chemotherapy', ',', 'or', 'palliation', '.', '``', ',', '``', 'Hypertension', ',', 'also', 'known', 'a', 'high', 'blood', 'pressure', '(', 'HBP', ')', ',', 'is', 'a', 'long-term', 'medical', 'condition', 'in', 'which', 'the', 'blood', 'pressure', 'in', 'the', 'artery', 'is', 'persistently', 'elevated', '.']\n"
          ]
        },
        {
          "output_type": "stream",
          "name": "stderr",
          "text": [
            "[nltk_data] Downloading package punkt_tab to /root/nltk_data...\n",
            "[nltk_data]   Package punkt_tab is already up-to-date!\n",
            "[nltk_data] Downloading package wordnet to /root/nltk_data...\n",
            "[nltk_data]   Package wordnet is already up-to-date!\n"
          ]
        }
      ]
    },
    {
      "cell_type": "code",
      "source": [
        "#Creating a function\n",
        "from nltk.stem import WordNetLemmatizer\n",
        "from nltk import word_tokenize,RegexpTokenizer\n",
        "from nltk.corpus import stopwords\n",
        "\n",
        "nltk.download('punkt_tab')\n",
        "nltk.download('wordnet')\n",
        "nltk.download('stopwords')\n",
        "\n",
        "\n",
        "def preprocess_medical_texts(text):\n",
        "  \"\"\"\n",
        "  preprocesses_medical texts by:\n",
        "  1.Lower Uppercase  text\n",
        "  2.Remove punctuation marks\n",
        "  3.Tokenize text\n",
        "  4.Remove stop words\n",
        "  5.Lemmatize the words in object\n",
        "\n",
        "  Args:\n",
        "       medical_texts (str): The input of medical texts.\n",
        "\n",
        "  Returns:\n",
        "       list: A list of lemmatized words.\n",
        "  \"\"\"\n",
        "\n",
        "#Code to lower Uppercase words\n",
        "  lower_text = medical_texts.lower()\n",
        "\n",
        "#code to remove punctuation marks\n",
        "  tokenizer =  RegexpTokenizer(r'\\w+')\n",
        "  tokens = tokenizer.tokenize(lower_text)\n",
        "\n",
        "#Code to remove stop words\n",
        "  stop_words = set(stopwords.words('english'))\n",
        "  new_text =[token for token in tokens if not token in stop_words]\n",
        "\n",
        "#code to tokenize medical_text\n",
        "  tokens = word_tokenize(medical_texts)\n",
        "\n",
        "#Assigning WordNetLemmatizer as an object\n",
        "  lemmatizer = WordNetLemmatizer()\n",
        "\n",
        "#code to lemmatize each word\n",
        "  lemmatize_text = [lemmatizer.lemmatize(token) for token in tokens]\n",
        "  lemmatized = \" \".join(lemmatize_text)\n",
        "  return lemmatize_text\n",
        "\n",
        "medical_texts =  \"\"\"\n",
        "Diabetes mellitus (DM), commonly known as diabetes, is a group of metabolic disorders characterized by a high blood sugar level over a prolonged period of time.\",\n",
        "    \"Symptoms of high blood sugar include frequent urination, increased thirst, and increased hunger.\",\n",
        "    \"Cancer is a group of diseases involving abnormal cell growth with the potential to invade or spread to other parts of the body.\",\n",
        "    \"These contrast with benign tumors, which do not spread. Treatment options may include surgery, radiation therapy, chemotherapy, or palliation.\",\n",
        "    \"Hypertension, also known as high blood pressure (HBP), is a long-term medical condition in which the blood pressure in the arteries is persistently elevated.\n",
        "    \"\"\"\n",
        "processed_text = preprocess_medical_texts(medical_texts)\n",
        "print(\"processed_text:\",processed_text)"
      ],
      "metadata": {
        "colab": {
          "base_uri": "https://localhost:8080/"
        },
        "id": "7O8a9PAfb8Om",
        "outputId": "7592b495-0558-4956-a708-8632ba8fd796"
      },
      "execution_count": null,
      "outputs": [
        {
          "output_type": "stream",
          "name": "stdout",
          "text": [
            "processed_text: ['Diabetes', 'mellitus', '(', 'DM', ')', ',', 'commonly', 'known', 'a', 'diabetes', ',', 'is', 'a', 'group', 'of', 'metabolic', 'disorder', 'characterized', 'by', 'a', 'high', 'blood', 'sugar', 'level', 'over', 'a', 'prolonged', 'period', 'of', 'time', '.', '``', ',', '``', 'Symptoms', 'of', 'high', 'blood', 'sugar', 'include', 'frequent', 'urination', ',', 'increased', 'thirst', ',', 'and', 'increased', 'hunger', '.', '``', ',', '``', 'Cancer', 'is', 'a', 'group', 'of', 'disease', 'involving', 'abnormal', 'cell', 'growth', 'with', 'the', 'potential', 'to', 'invade', 'or', 'spread', 'to', 'other', 'part', 'of', 'the', 'body', '.', '``', ',', '``', 'These', 'contrast', 'with', 'benign', 'tumor', ',', 'which', 'do', 'not', 'spread', '.', 'Treatment', 'option', 'may', 'include', 'surgery', ',', 'radiation', 'therapy', ',', 'chemotherapy', ',', 'or', 'palliation', '.', '``', ',', '``', 'Hypertension', ',', 'also', 'known', 'a', 'high', 'blood', 'pressure', '(', 'HBP', ')', ',', 'is', 'a', 'long-term', 'medical', 'condition', 'in', 'which', 'the', 'blood', 'pressure', 'in', 'the', 'artery', 'is', 'persistently', 'elevated', '.']\n"
          ]
        },
        {
          "output_type": "stream",
          "name": "stderr",
          "text": [
            "[nltk_data] Downloading package punkt_tab to /root/nltk_data...\n",
            "[nltk_data]   Package punkt_tab is already up-to-date!\n",
            "[nltk_data] Downloading package wordnet to /root/nltk_data...\n",
            "[nltk_data]   Package wordnet is already up-to-date!\n",
            "[nltk_data] Downloading package stopwords to /root/nltk_data...\n",
            "[nltk_data]   Package stopwords is already up-to-date!\n"
          ]
        }
      ]
    }
  ],
  "metadata": {
    "colab": {
      "provenance": [],
      "include_colab_link": true
    },
    "kernelspec": {
      "display_name": "Python 3",
      "name": "python3"
    },
    "language_info": {
      "name": "python"
    }
  },
  "nbformat": 4,
  "nbformat_minor": 0
}